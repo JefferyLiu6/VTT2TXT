{
 "cells": [
  {
   "cell_type": "code",
   "execution_count": 6,
   "metadata": {},
   "outputs": [
    {
     "name": "stdout",
     "output_type": "stream",
     "text": [
      "Conversion completed. Text saved to output42.txt\n"
     ]
    }
   ],
   "source": [
    "def vtt_to_text(vtt_file_path, output_file_path):\n",
    "    \"\"\"\n",
    "    Converts a .vtt file to plain text by removing the timestamps, numbering, and other metadata.\n",
    "\n",
    "    Parameters:\n",
    "    vtt_file_path (str): Path to the .vtt file.\n",
    "    output_file_path (str): Path to save the output plain text file.\n",
    "    \"\"\"\n",
    "    with open(vtt_file_path, 'r', encoding='utf-8') as vtt_file, open(output_file_path, 'w', encoding='utf-8') as output_file:\n",
    "        for line in vtt_file:\n",
    "            # Skip lines that contain metadata, timestamps, numbering, or empty lines\n",
    "            if '-->' in line or line.startswith('WEBVTT') or line.strip() == '' or line.strip().isdigit():\n",
    "                continue\n",
    "            # Write the plain text lines to the output file\n",
    "            output_file.write(line.strip() + ' ')  # Add space to separate sentences in consecutive lines\n",
    "\n",
    "    print(f\"Conversion completed. Text saved to {output_file_path}\")\n",
    "\n",
    "# Example usage:\n",
    "vtt_file = '42.vtt'  # Path to your VTT file\n",
    "output_file = 'output42.txt'  # Path where you want to save the text\n",
    "vtt_to_text(vtt_file, output_file)\n"
   ]
  }
 ],
 "metadata": {
  "kernelspec": {
   "display_name": "Python 3",
   "language": "python",
   "name": "python3"
  },
  "language_info": {
   "codemirror_mode": {
    "name": "ipython",
    "version": 3
   },
   "file_extension": ".py",
   "mimetype": "text/x-python",
   "name": "python",
   "nbconvert_exporter": "python",
   "pygments_lexer": "ipython3",
   "version": "3.11.3"
  }
 },
 "nbformat": 4,
 "nbformat_minor": 2
}
